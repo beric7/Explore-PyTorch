{
  "nbformat": 4,
  "nbformat_minor": 0,
  "metadata": {
    "colab": {
      "name": "Part1.Pytorch_Sentiment_Analysis.ipynb",
      "provenance": [],
      "collapsed_sections": []
    },
    "kernelspec": {
      "name": "python3",
      "display_name": "Python 3"
    },
    "accelerator": "GPU"
  },
  "cells": [
    {
      "cell_type": "markdown",
      "metadata": {
        "id": "rsUI7eO__wEU",
        "colab_type": "text"
      },
      "source": [
        "**Goal**: Explore PyTorch library for deep learning model creation and explore nlp techniques for Sentiment Analysis\n",
        "\n",
        "**Dataset:**https://www.kaggle.com/nicapotato/womens-ecommerce-clothing-reviews"
      ]
    },
    {
      "cell_type": "code",
      "metadata": {
        "id": "e51o7S2i_qMN",
        "colab_type": "code",
        "colab": {}
      },
      "source": [
        "import pandas as pd\n",
        "import numpy as np\n",
        "import torch\n",
        "from google.colab import drive\n"
      ],
      "execution_count": 0,
      "outputs": []
    },
    {
      "cell_type": "code",
      "metadata": {
        "id": "fUI4Db___qJj",
        "colab_type": "code",
        "colab": {
          "base_uri": "https://localhost:8080/",
          "height": 34
        },
        "outputId": "a935a275-6a72-478a-daf8-58dd44ffdc37"
      },
      "source": [
        "drive.mount('/content/drive')"
      ],
      "execution_count": 57,
      "outputs": [
        {
          "output_type": "stream",
          "text": [
            "Drive already mounted at /content/drive; to attempt to forcibly remount, call drive.mount(\"/content/drive\", force_remount=True).\n"
          ],
          "name": "stdout"
        }
      ]
    },
    {
      "cell_type": "code",
      "metadata": {
        "id": "sKbK1vI-_qEo",
        "colab_type": "code",
        "colab": {}
      },
      "source": [
        "dataset = pd.read_csv(\"/content/drive/My Drive/pytorch_tutorials/PyTorch Sentiment Analysis/data/Womens Clothing E-Commerce Reviews.csv\")"
      ],
      "execution_count": 0,
      "outputs": []
    },
    {
      "cell_type": "code",
      "metadata": {
        "id": "rcou0RZyxgo8",
        "colab_type": "code",
        "colab": {
          "base_uri": "https://localhost:8080/",
          "height": 306
        },
        "outputId": "24974b94-3340-404c-b0dd-c482f8d5ead2"
      },
      "source": [
        "dataset.head()"
      ],
      "execution_count": 59,
      "outputs": [
        {
          "output_type": "execute_result",
          "data": {
            "text/html": [
              "<div>\n",
              "<style scoped>\n",
              "    .dataframe tbody tr th:only-of-type {\n",
              "        vertical-align: middle;\n",
              "    }\n",
              "\n",
              "    .dataframe tbody tr th {\n",
              "        vertical-align: top;\n",
              "    }\n",
              "\n",
              "    .dataframe thead th {\n",
              "        text-align: right;\n",
              "    }\n",
              "</style>\n",
              "<table border=\"1\" class=\"dataframe\">\n",
              "  <thead>\n",
              "    <tr style=\"text-align: right;\">\n",
              "      <th></th>\n",
              "      <th>Unnamed: 0</th>\n",
              "      <th>Clothing ID</th>\n",
              "      <th>Age</th>\n",
              "      <th>Title</th>\n",
              "      <th>Review Text</th>\n",
              "      <th>Rating</th>\n",
              "      <th>Recommended IND</th>\n",
              "      <th>Positive Feedback Count</th>\n",
              "      <th>Division Name</th>\n",
              "      <th>Department Name</th>\n",
              "      <th>Class Name</th>\n",
              "    </tr>\n",
              "  </thead>\n",
              "  <tbody>\n",
              "    <tr>\n",
              "      <th>0</th>\n",
              "      <td>0</td>\n",
              "      <td>767</td>\n",
              "      <td>33</td>\n",
              "      <td>NaN</td>\n",
              "      <td>Absolutely wonderful - silky and sexy and comf...</td>\n",
              "      <td>4</td>\n",
              "      <td>1</td>\n",
              "      <td>0</td>\n",
              "      <td>Initmates</td>\n",
              "      <td>Intimate</td>\n",
              "      <td>Intimates</td>\n",
              "    </tr>\n",
              "    <tr>\n",
              "      <th>1</th>\n",
              "      <td>1</td>\n",
              "      <td>1080</td>\n",
              "      <td>34</td>\n",
              "      <td>NaN</td>\n",
              "      <td>Love this dress!  it's sooo pretty.  i happene...</td>\n",
              "      <td>5</td>\n",
              "      <td>1</td>\n",
              "      <td>4</td>\n",
              "      <td>General</td>\n",
              "      <td>Dresses</td>\n",
              "      <td>Dresses</td>\n",
              "    </tr>\n",
              "    <tr>\n",
              "      <th>2</th>\n",
              "      <td>2</td>\n",
              "      <td>1077</td>\n",
              "      <td>60</td>\n",
              "      <td>Some major design flaws</td>\n",
              "      <td>I had such high hopes for this dress and reall...</td>\n",
              "      <td>3</td>\n",
              "      <td>0</td>\n",
              "      <td>0</td>\n",
              "      <td>General</td>\n",
              "      <td>Dresses</td>\n",
              "      <td>Dresses</td>\n",
              "    </tr>\n",
              "    <tr>\n",
              "      <th>3</th>\n",
              "      <td>3</td>\n",
              "      <td>1049</td>\n",
              "      <td>50</td>\n",
              "      <td>My favorite buy!</td>\n",
              "      <td>I love, love, love this jumpsuit. it's fun, fl...</td>\n",
              "      <td>5</td>\n",
              "      <td>1</td>\n",
              "      <td>0</td>\n",
              "      <td>General Petite</td>\n",
              "      <td>Bottoms</td>\n",
              "      <td>Pants</td>\n",
              "    </tr>\n",
              "    <tr>\n",
              "      <th>4</th>\n",
              "      <td>4</td>\n",
              "      <td>847</td>\n",
              "      <td>47</td>\n",
              "      <td>Flattering shirt</td>\n",
              "      <td>This shirt is very flattering to all due to th...</td>\n",
              "      <td>5</td>\n",
              "      <td>1</td>\n",
              "      <td>6</td>\n",
              "      <td>General</td>\n",
              "      <td>Tops</td>\n",
              "      <td>Blouses</td>\n",
              "    </tr>\n",
              "  </tbody>\n",
              "</table>\n",
              "</div>"
            ],
            "text/plain": [
              "   Unnamed: 0  Clothing ID  Age  ...   Division Name Department Name  Class Name\n",
              "0           0          767   33  ...       Initmates        Intimate   Intimates\n",
              "1           1         1080   34  ...         General         Dresses     Dresses\n",
              "2           2         1077   60  ...         General         Dresses     Dresses\n",
              "3           3         1049   50  ...  General Petite         Bottoms       Pants\n",
              "4           4          847   47  ...         General            Tops     Blouses\n",
              "\n",
              "[5 rows x 11 columns]"
            ]
          },
          "metadata": {
            "tags": []
          },
          "execution_count": 59
        }
      ]
    },
    {
      "cell_type": "markdown",
      "metadata": {
        "id": "SnI9P6RYBjcY",
        "colab_type": "text"
      },
      "source": [
        "As we are concerned about only text data analysis,we'll ignore all other columns and keep 'Review Text' and 'Recommended IND' columns only"
      ]
    },
    {
      "cell_type": "code",
      "metadata": {
        "id": "XYKaQEx91YJs",
        "colab_type": "code",
        "colab": {}
      },
      "source": [
        "dataset = dataset[['Review Text','Recommended IND']]"
      ],
      "execution_count": 0,
      "outputs": []
    },
    {
      "cell_type": "code",
      "metadata": {
        "id": "WKvIJ8i3DCyp",
        "colab_type": "code",
        "colab": {}
      },
      "source": [
        "dataset =  dataset.rename(columns={'Review Text':'review','Recommended IND':'recommended'})"
      ],
      "execution_count": 0,
      "outputs": []
    },
    {
      "cell_type": "code",
      "metadata": {
        "id": "ZknlLYxn1evO",
        "colab_type": "code",
        "outputId": "fb860e23-ccb5-44be-9070-1ed10b6004ad",
        "colab": {
          "base_uri": "https://localhost:8080/",
          "height": 204
        }
      },
      "source": [
        "dataset.head() "
      ],
      "execution_count": 62,
      "outputs": [
        {
          "output_type": "execute_result",
          "data": {
            "text/html": [
              "<div>\n",
              "<style scoped>\n",
              "    .dataframe tbody tr th:only-of-type {\n",
              "        vertical-align: middle;\n",
              "    }\n",
              "\n",
              "    .dataframe tbody tr th {\n",
              "        vertical-align: top;\n",
              "    }\n",
              "\n",
              "    .dataframe thead th {\n",
              "        text-align: right;\n",
              "    }\n",
              "</style>\n",
              "<table border=\"1\" class=\"dataframe\">\n",
              "  <thead>\n",
              "    <tr style=\"text-align: right;\">\n",
              "      <th></th>\n",
              "      <th>review</th>\n",
              "      <th>recommended</th>\n",
              "    </tr>\n",
              "  </thead>\n",
              "  <tbody>\n",
              "    <tr>\n",
              "      <th>0</th>\n",
              "      <td>Absolutely wonderful - silky and sexy and comf...</td>\n",
              "      <td>1</td>\n",
              "    </tr>\n",
              "    <tr>\n",
              "      <th>1</th>\n",
              "      <td>Love this dress!  it's sooo pretty.  i happene...</td>\n",
              "      <td>1</td>\n",
              "    </tr>\n",
              "    <tr>\n",
              "      <th>2</th>\n",
              "      <td>I had such high hopes for this dress and reall...</td>\n",
              "      <td>0</td>\n",
              "    </tr>\n",
              "    <tr>\n",
              "      <th>3</th>\n",
              "      <td>I love, love, love this jumpsuit. it's fun, fl...</td>\n",
              "      <td>1</td>\n",
              "    </tr>\n",
              "    <tr>\n",
              "      <th>4</th>\n",
              "      <td>This shirt is very flattering to all due to th...</td>\n",
              "      <td>1</td>\n",
              "    </tr>\n",
              "  </tbody>\n",
              "</table>\n",
              "</div>"
            ],
            "text/plain": [
              "                                              review  recommended\n",
              "0  Absolutely wonderful - silky and sexy and comf...            1\n",
              "1  Love this dress!  it's sooo pretty.  i happene...            1\n",
              "2  I had such high hopes for this dress and reall...            0\n",
              "3  I love, love, love this jumpsuit. it's fun, fl...            1\n",
              "4  This shirt is very flattering to all due to th...            1"
            ]
          },
          "metadata": {
            "tags": []
          },
          "execution_count": 62
        }
      ]
    },
    {
      "cell_type": "code",
      "metadata": {
        "id": "4-X2WGGB3kvV",
        "colab_type": "code",
        "outputId": "9eeddd38-b5d7-4721-f84c-16c6dc87e7b9",
        "colab": {
          "base_uri": "https://localhost:8080/",
          "height": 34
        }
      },
      "source": [
        "dataset.shape"
      ],
      "execution_count": 63,
      "outputs": [
        {
          "output_type": "execute_result",
          "data": {
            "text/plain": [
              "(23486, 2)"
            ]
          },
          "metadata": {
            "tags": []
          },
          "execution_count": 63
        }
      ]
    },
    {
      "cell_type": "code",
      "metadata": {
        "id": "L7HtyDTNfGJa",
        "colab_type": "code",
        "colab": {
          "base_uri": "https://localhost:8080/",
          "height": 34
        },
        "outputId": "182ed35a-e58a-41ea-8eb9-c1f3ae0c03ad"
      },
      "source": [
        "dataset.review.isnull().sum()"
      ],
      "execution_count": 64,
      "outputs": [
        {
          "output_type": "execute_result",
          "data": {
            "text/plain": [
              "845"
            ]
          },
          "metadata": {
            "tags": []
          },
          "execution_count": 64
        }
      ]
    },
    {
      "cell_type": "code",
      "metadata": {
        "id": "H7daOUkFfcLO",
        "colab_type": "code",
        "colab": {}
      },
      "source": [
        "dataset = dataset.dropna(axis=0, subset=['review'])"
      ],
      "execution_count": 0,
      "outputs": []
    },
    {
      "cell_type": "markdown",
      "metadata": {
        "id": "WNAsxAPYHmCD",
        "colab_type": "text"
      },
      "source": [
        "There are multiple ways to convert Text to numbers/vectors, we''ll stick to basics and explore word embeddings later.\n",
        "Because purpose of this excercise is checking PyTorch  for Deep Learning model building.\n",
        "Here is the link to basic word embeddings techniques:\n",
        "https://www.analyticsvidhya.com/blog/2017/06/word-embeddings-count-word2veec/"
      ]
    },
    {
      "cell_type": "code",
      "metadata": {
        "id": "7ucP9VhQ7CHp",
        "colab_type": "code",
        "colab": {}
      },
      "source": [
        "from sklearn.feature_extraction.text import CountVectorizer\n",
        "from sklearn.linear_model import LogisticRegression\n",
        "from sklearn.model_selection import train_test_split\n",
        " \n",
        "# Shuffle the data and then split it, keeping 20% aside for testing\n",
        "X_train, X_test, y_train, y_test = train_test_split(dataset['review'], dataset['recommended'], test_size=0.2)\n",
        " \n",
        "vectorizer = CountVectorizer(lowercase=True)\n",
        "vectorizer.fit(dataset['review'])\n",
        "\n",
        "X_train_vec = vectorizer.transform(X_train)\n",
        "X_test_vec = vectorizer.transform(X_test)"
      ],
      "execution_count": 0,
      "outputs": []
    },
    {
      "cell_type": "code",
      "metadata": {
        "id": "Bwu93gpDE4hL",
        "colab_type": "code",
        "colab": {
          "base_uri": "https://localhost:8080/",
          "height": 51
        },
        "outputId": "b8f65d96-6d02-46b2-db0e-fad83a3a80b8"
      },
      "source": [
        "print(X_train_vec.shape)\n",
        "print(X_test_vec.shape)"
      ],
      "execution_count": 67,
      "outputs": [
        {
          "output_type": "stream",
          "text": [
            "(18112, 14145)\n",
            "(4529, 14145)\n"
          ],
          "name": "stdout"
        }
      ]
    },
    {
      "cell_type": "code",
      "metadata": {
        "id": "-_gRPOf0Eiji",
        "colab_type": "code",
        "colab": {
          "base_uri": "https://localhost:8080/",
          "height": 88
        },
        "outputId": "567a391c-a980-4862-86bb-9bc99af8b48d"
      },
      "source": [
        "classifier = LogisticRegression()\n",
        "classifier.fit(X_train_vec, y_train)\n",
        " \n",
        "print(\"Score:\", classifier.score(X_test_vec, y_test)) "
      ],
      "execution_count": 68,
      "outputs": [
        {
          "output_type": "stream",
          "text": [
            "/usr/local/lib/python3.6/dist-packages/sklearn/linear_model/logistic.py:432: FutureWarning: Default solver will be changed to 'lbfgs' in 0.22. Specify a solver to silence this warning.\n",
            "  FutureWarning)\n"
          ],
          "name": "stderr"
        },
        {
          "output_type": "stream",
          "text": [
            "Score: 0.8904835504526386\n"
          ],
          "name": "stdout"
        }
      ]
    },
    {
      "cell_type": "markdown",
      "metadata": {
        "id": "nCQ8p56HidXk",
        "colab_type": "text"
      },
      "source": [
        "We now know that vocabulary size is 14145."
      ]
    },
    {
      "cell_type": "code",
      "metadata": {
        "id": "TwD8UIOGFGFx",
        "colab_type": "code",
        "colab": {}
      },
      "source": [
        "'''Now let's convert dataset to Tensors'''\n",
        "X_train_tensor = torch.from_numpy(X_train_vec.todense()).float()\n",
        "X_test_tensor = torch.from_numpy(X_test_vec.todense()).float()\n",
        "Y_train_tensor = torch.from_numpy(np.array(y_train))\n",
        "Y_test_tensor = torch.from_numpy(np.array(y_test))"
      ],
      "execution_count": 0,
      "outputs": []
    },
    {
      "cell_type": "code",
      "metadata": {
        "id": "DoOXpyo070t1",
        "colab_type": "code",
        "colab": {
          "base_uri": "https://localhost:8080/",
          "height": 34
        },
        "outputId": "af06d959-e0f7-4095-bca9-9949386fd8c7"
      },
      "source": [
        "'''Now let's build basic network and try to get prediction without training model'''\n",
        "\n",
        "class Network(torch.nn.Module):\n",
        "  def __init__(self,vocab_size,out_classes):\n",
        "    super().__init__()    \n",
        "    self.linear = torch.nn.Linear(vocab_size,out_classes)\n",
        "\n",
        "  def forward(self,x):\n",
        "    return self.linear(x)\n",
        "\n",
        "#Declare dimensions\n",
        "VOCAB_SIZE = 14145\n",
        "OUT_CLASSES = 1\n",
        "\n",
        "#Initialize model\n",
        "model = Network(VOCAB_SIZE,OUT_CLASSES)\n",
        "\n",
        "#Prediction without training\n",
        "'''CountVectorizer has given sparse matrix,first we have to convert it to Dense matrix.'''\n",
        "pred = model(X_train_tensor[1])\n",
        "\n",
        "print(pred)"
      ],
      "execution_count": 70,
      "outputs": [
        {
          "output_type": "stream",
          "text": [
            "tensor([-0.0228], grad_fn=<AddBackward0>)\n"
          ],
          "name": "stdout"
        }
      ]
    },
    {
      "cell_type": "code",
      "metadata": {
        "id": "xbAgF3dRnlXQ",
        "colab_type": "code",
        "colab": {
          "base_uri": "https://localhost:8080/",
          "height": 34
        },
        "outputId": "3266e2b4-d280-4942-a10e-8b1491ffd3c1"
      },
      "source": [
        "'''Now let's do the training,But before we do the training we have to create batches of training data'''"
      ],
      "execution_count": 71,
      "outputs": [
        {
          "output_type": "execute_result",
          "data": {
            "text/plain": [
              "\"Now let's do the training,But before we do the training we have to create batches of training data\""
            ]
          },
          "metadata": {
            "tags": []
          },
          "execution_count": 71
        }
      ]
    },
    {
      "cell_type": "code",
      "metadata": {
        "id": "XrpFQ__iA8cx",
        "colab_type": "code",
        "colab": {}
      },
      "source": [
        "'''We'll use DataLoader class for batching but it requires TensorDataset'''\n",
        "from torch.utils.data import Dataset, TensorDataset"
      ],
      "execution_count": 0,
      "outputs": []
    },
    {
      "cell_type": "code",
      "metadata": {
        "id": "dDkMHqDT-1GW",
        "colab_type": "code",
        "colab": {}
      },
      "source": [
        "train_data = TensorDataset(X_train_tensor, Y_train_tensor)"
      ],
      "execution_count": 0,
      "outputs": []
    },
    {
      "cell_type": "code",
      "metadata": {
        "id": "JxEmVJtRCsJ5",
        "colab_type": "code",
        "colab": {
          "base_uri": "https://localhost:8080/",
          "height": 34
        },
        "outputId": "77b1cb82-81b8-4bf7-fbe0-6dfe37772769"
      },
      "source": [
        "'''TensorDataset creates list of tuples with each record containing feature_tuple and lable_tuple.'''\n",
        "train_data[0]"
      ],
      "execution_count": 74,
      "outputs": [
        {
          "output_type": "execute_result",
          "data": {
            "text/plain": [
              "(tensor([0., 0., 0.,  ..., 0., 0., 0.]), tensor(1))"
            ]
          },
          "metadata": {
            "tags": []
          },
          "execution_count": 74
        }
      ]
    },
    {
      "cell_type": "code",
      "metadata": {
        "id": "Teye-410P4KK",
        "colab_type": "code",
        "colab": {}
      },
      "source": [
        "'''Let's use DataLoader'''\n",
        "from torch.utils.data import DataLoader\n",
        "train_loader = DataLoader(train_data,batch_size=16, shuffle=True)"
      ],
      "execution_count": 0,
      "outputs": []
    },
    {
      "cell_type": "code",
      "metadata": {
        "id": "Z3FxcYtP0uTk",
        "colab_type": "code",
        "colab": {
          "base_uri": "https://localhost:8080/",
          "height": 153
        },
        "outputId": "6ca05397-aa4e-4db3-941f-d68fbae25696"
      },
      "source": [
        "'''This object/train_loader is iterable'''\n",
        "next(iter(train_loader))"
      ],
      "execution_count": 76,
      "outputs": [
        {
          "output_type": "execute_result",
          "data": {
            "text/plain": [
              "[tensor([[0., 0., 0.,  ..., 0., 0., 0.],\n",
              "         [0., 0., 0.,  ..., 0., 0., 0.],\n",
              "         [0., 0., 0.,  ..., 0., 0., 0.],\n",
              "         ...,\n",
              "         [0., 0., 0.,  ..., 0., 0., 0.],\n",
              "         [0., 0., 0.,  ..., 0., 0., 0.],\n",
              "         [0., 0., 0.,  ..., 0., 0., 0.]]),\n",
              " tensor([0, 0, 1, 1, 1, 1, 1, 1, 1, 1, 1, 1, 1, 1, 1, 1])]"
            ]
          },
          "metadata": {
            "tags": []
          },
          "execution_count": 76
        }
      ]
    },
    {
      "cell_type": "code",
      "metadata": {
        "id": "Ql_fU_EzuDsJ",
        "colab_type": "code",
        "colab": {
          "base_uri": "https://localhost:8080/",
          "height": 187
        },
        "outputId": "84dcbae2-398b-45e0-983a-b4a363f13e5b"
      },
      "source": [
        "'''Now let's do the training'''\n",
        "'''But before that we have to update our Network,because earlier we've created basic liner network.But here we need network which can output values\n",
        "either 0 or 1,so let's add sigmoid layer and also few hidden layers'''\n",
        "class Network(torch.nn.Module):\n",
        "  def __init__(self,vocab_size,hidden_units,num_classes):\n",
        "    super().__init__()    \n",
        "    self.fc1 = torch.nn.Linear(vocab_size,hidden_units)\n",
        "    self.fc2 = torch.nn.Linear(hidden_units,num_classes)\n",
        "    self.output = torch.nn.Sigmoid()\n",
        "  \n",
        "  def forward(self,x):\n",
        "    fc1 = self.fc1(x)\n",
        "    fc2 = self.fc2(fc1)\n",
        "    output = self.output(fc2)\n",
        "    return output[:, -1]\n",
        "\n",
        "\n",
        "\n",
        "NUM_EPOCHS = 5\n",
        "VOCAB_SIZE = 14145\n",
        "HIDDEN_UNITS = 3\n",
        "OUT_CLASSES = 1\n",
        "LEARNING_RATE = 0.001\n",
        "\n",
        "#Initialize model\n",
        "model = Network(VOCAB_SIZE,HIDDEN_UNITS,OUT_CLASSES)\n",
        "print(model)\n",
        "#Initialize optimizer\n",
        "optimizer =torch.optim.SGD(model.parameters(), lr=LEARNING_RATE) \n",
        "#Initialize loss function\n",
        "loss_fun = torch.nn.BCELoss()\n",
        " \n",
        "for i in range(NUM_EPOCHS):\n",
        "  for x_batch,y_batch in train_loader:\n",
        "    model.train()\n",
        "    y_pred = model(x_batch)\n",
        "    loss = loss_fun(y_pred,y_batch.float())\n",
        "    loss.backward()\n",
        "    optimizer.step()\n",
        "    optimizer.zero_grad()\n",
        "     \n",
        "  print('After {} epoch training loss is {}'.format(i,loss.item()))\n",
        "    "
      ],
      "execution_count": 77,
      "outputs": [
        {
          "output_type": "stream",
          "text": [
            "Network(\n",
            "  (fc1): Linear(in_features=14145, out_features=3, bias=True)\n",
            "  (fc2): Linear(in_features=3, out_features=1, bias=True)\n",
            "  (output): Sigmoid()\n",
            ")\n",
            "After 0 epoch training loss is 0.3262462913990021\n",
            "After 1 epoch training loss is 0.560406506061554\n",
            "After 2 epoch training loss is 0.3553839921951294\n",
            "After 3 epoch training loss is 0.6066318154335022\n",
            "After 4 epoch training loss is 0.33251193165779114\n"
          ],
          "name": "stdout"
        }
      ]
    },
    {
      "cell_type": "code",
      "metadata": {
        "id": "-EYwmIEfkKLZ",
        "colab_type": "code",
        "colab": {}
      },
      "source": [
        ""
      ],
      "execution_count": 0,
      "outputs": []
    }
  ]
}