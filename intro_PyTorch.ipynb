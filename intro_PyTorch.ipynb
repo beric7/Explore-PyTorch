{
  "nbformat": 4,
  "nbformat_minor": 0,
  "metadata": {
    "colab": {
      "name": "intro_PyTorch.ipynb",
      "provenance": [],
      "collapsed_sections": []
    },
    "kernelspec": {
      "name": "python3",
      "display_name": "Python 3"
    }
  },
  "cells": [
    {
      "cell_type": "markdown",
      "metadata": {
        "id": "9lhrwS2kqpae",
        "colab_type": "text"
      },
      "source": [
        "### Goal:\n",
        "PyTorch is one of the most popular library for deep learning project. We'll explore PyTorch in detail in series of articles.\n",
        "Firstly we'll see what is PyTorch and how it works"
      ]
    },
    {
      "cell_type": "markdown",
      "metadata": {
        "id": "KnXy1HEos9i9",
        "colab_type": "text"
      },
      "source": [
        "Scalar has zero dimensions.It is a single number.\n",
        "Vector is two dimensional.\n",
        "Matrix is two or more dimensional.\n",
        "Tensor is everything except scalar.So anything more than one dimension can be called as tensor."
      ]
    },
    {
      "cell_type": "markdown",
      "metadata": {
        "id": "XoKnSv6huBiO",
        "colab_type": "text"
      },
      "source": [
        "tensors are similar to numpy array.However numpy array can't be used with GPU.This is the main advantage of using tensor over numpy array.Now let's see some numpy array and tensors:"
      ]
    },
    {
      "cell_type": "code",
      "metadata": {
        "id": "6u9H9zVGupWC",
        "colab_type": "code",
        "colab": {}
      },
      "source": [
        "import numpy as np\n",
        "import torch"
      ],
      "execution_count": 0,
      "outputs": []
    },
    {
      "cell_type": "code",
      "metadata": {
        "id": "ziooW-rUtejm",
        "colab_type": "code",
        "outputId": "340ac9d4-b578-41df-8da6-cd08520b0548",
        "colab": {
          "base_uri": "https://localhost:8080/",
          "height": 85
        }
      },
      "source": [
        "np_arr = np.array(3)\n",
        "tensor = torch.tensor(5)\n",
        "print(np_arr)\n",
        "print(tensor)\n",
        "print(type(np_arr))\n",
        "print(type(tensor))"
      ],
      "execution_count": 152,
      "outputs": [
        {
          "output_type": "stream",
          "text": [
            "3\n",
            "tensor(5)\n",
            "<class 'numpy.ndarray'>\n",
            "<class 'torch.Tensor'>\n"
          ],
          "name": "stdout"
        }
      ]
    },
    {
      "cell_type": "markdown",
      "metadata": {
        "id": "__lPTj4uvTm7",
        "colab_type": "text"
      },
      "source": [
        "We can convert numpy array to tensor and viceversa."
      ]
    },
    {
      "cell_type": "code",
      "metadata": {
        "id": "BqfRS4u7vZGj",
        "colab_type": "code",
        "outputId": "1469bf2a-ca08-4f31-a607-aa4bf2185081",
        "colab": {
          "base_uri": "https://localhost:8080/",
          "height": 51
        }
      },
      "source": [
        "tensor_from_np = torch.from_numpy(np_arr)\n",
        "print(tensor_from_np)\n",
        "print(type(tensor_from_np))"
      ],
      "execution_count": 153,
      "outputs": [
        {
          "output_type": "stream",
          "text": [
            "tensor(3)\n",
            "<class 'torch.Tensor'>\n"
          ],
          "name": "stdout"
        }
      ]
    },
    {
      "cell_type": "code",
      "metadata": {
        "id": "cVpX74xdvQ_D",
        "colab_type": "code",
        "outputId": "66b4847b-b44c-4d6e-b71c-648575272738",
        "colab": {
          "base_uri": "https://localhost:8080/",
          "height": 51
        }
      },
      "source": [
        "np_arr_from_tensor = tensor.numpy()\n",
        "print(np_arr_from_tensor)\n",
        "print(type(np_arr_from_tensor))"
      ],
      "execution_count": 154,
      "outputs": [
        {
          "output_type": "stream",
          "text": [
            "5\n",
            "<class 'numpy.ndarray'>\n"
          ],
          "name": "stdout"
        }
      ]
    },
    {
      "cell_type": "code",
      "metadata": {
        "id": "pDkO6rnWvHMm",
        "colab_type": "code",
        "colab": {}
      },
      "source": [
        "np_arr = np.array(3)\n",
        "tensor = torch.tensor(5)"
      ],
      "execution_count": 0,
      "outputs": []
    },
    {
      "cell_type": "markdown",
      "metadata": {
        "id": "vox86av19AJf",
        "colab_type": "text"
      },
      "source": [
        "Matrix Initialization and Matrix Operations"
      ]
    },
    {
      "cell_type": "markdown",
      "metadata": {
        "id": "lSwZx04V-tAG",
        "colab_type": "text"
      },
      "source": [
        "using Numpy:"
      ]
    },
    {
      "cell_type": "code",
      "metadata": {
        "id": "VyE_cV2b9ELn",
        "colab_type": "code",
        "outputId": "e12e3867-709c-4c0f-d1e9-f5ff6674d392",
        "colab": {
          "base_uri": "https://localhost:8080/",
          "height": 119
        }
      },
      "source": [
        "np.random.seed(0)\n",
        "mat1 = np.random.randn(2,2)\n",
        "mat2 = np.array([[1,2],[3,4]])\n",
        "print(mat1)\n",
        "print(type(mat1))\n",
        "print(mat2)\n",
        "print(type(mat2))"
      ],
      "execution_count": 156,
      "outputs": [
        {
          "output_type": "stream",
          "text": [
            "[[1.76405235 0.40015721]\n",
            " [0.97873798 2.2408932 ]]\n",
            "<class 'numpy.ndarray'>\n",
            "[[1 2]\n",
            " [3 4]]\n",
            "<class 'numpy.ndarray'>\n"
          ],
          "name": "stdout"
        }
      ]
    },
    {
      "cell_type": "code",
      "metadata": {
        "id": "aI0VijUh_Tt1",
        "colab_type": "code",
        "outputId": "2ed29aa7-408f-46ee-a994-3ff0e75587fb",
        "colab": {
          "base_uri": "https://localhost:8080/",
          "height": 153
        }
      },
      "source": [
        "print(mat1+mat2)\n",
        "print(mat1-mat2)\n",
        "print(mat1/mat2)\n",
        "print(mat1*mat2)"
      ],
      "execution_count": 157,
      "outputs": [
        {
          "output_type": "stream",
          "text": [
            "[[2.76405235 2.40015721]\n",
            " [3.97873798 6.2408932 ]]\n",
            "[[ 0.76405235 -1.59984279]\n",
            " [-2.02126202 -1.7591068 ]]\n",
            "[[1.76405235 0.2000786 ]\n",
            " [0.32624599 0.5602233 ]]\n",
            "[[1.76405235 0.80031442]\n",
            " [2.93621395 8.9635728 ]]\n"
          ],
          "name": "stdout"
        }
      ]
    },
    {
      "cell_type": "markdown",
      "metadata": {
        "id": "gJStDgeU_gWk",
        "colab_type": "text"
      },
      "source": [
        "using torch tensor:"
      ]
    },
    {
      "cell_type": "code",
      "metadata": {
        "id": "YXqtY-Gv_cuU",
        "colab_type": "code",
        "outputId": "902c5cc5-3d6f-4cb4-f46d-0f166cc2c7de",
        "colab": {
          "base_uri": "https://localhost:8080/",
          "height": 136
        }
      },
      "source": [
        "torch.random.seed = 0\n",
        "mat1 = torch.randn(2,2)\n",
        "mat2 = torch.from_numpy(np.array([[1,2],[3,4]]))\n",
        "print(mat1)\n",
        "print(type(mat1))\n",
        "print(mat2)\n",
        "print(type(mat2)) \n",
        "print(mat2.shape) "
      ],
      "execution_count": 158,
      "outputs": [
        {
          "output_type": "stream",
          "text": [
            "tensor([[-1.1677,  1.4882],\n",
            "        [ 0.1569, -1.6925]])\n",
            "<class 'torch.Tensor'>\n",
            "tensor([[1, 2],\n",
            "        [3, 4]])\n",
            "<class 'torch.Tensor'>\n",
            "torch.Size([2, 2])\n"
          ],
          "name": "stdout"
        }
      ]
    },
    {
      "cell_type": "code",
      "metadata": {
        "id": "q6Q5WlqTJYs0",
        "colab_type": "code",
        "outputId": "3d612759-1940-4f07-d49e-a152eb818681",
        "colab": {
          "base_uri": "https://localhost:8080/",
          "height": 153
        }
      },
      "source": [
        "print(mat1+mat2)\n",
        "print(mat1-mat2)\n",
        "print(mat1/mat2)\n",
        "print(mat1*mat2)"
      ],
      "execution_count": 159,
      "outputs": [
        {
          "output_type": "stream",
          "text": [
            "tensor([[-0.1677,  3.4882],\n",
            "        [ 3.1569,  2.3075]])\n",
            "tensor([[-2.1677, -0.5118],\n",
            "        [-2.8431, -5.6925]])\n",
            "tensor([[-1.1677,  0.7441],\n",
            "        [ 0.0523, -0.4231]])\n",
            "tensor([[-1.1677,  2.9763],\n",
            "        [ 0.4708, -6.7699]])\n"
          ],
          "name": "stdout"
        }
      ]
    },
    {
      "cell_type": "markdown",
      "metadata": {
        "id": "1iNifYiWtWPu",
        "colab_type": "text"
      },
      "source": [
        "As we can see numpy array and torch tensors are very similar in usage."
      ]
    },
    {
      "cell_type": "code",
      "metadata": {
        "id": "gCezDZIDteBj",
        "colab_type": "code",
        "colab": {}
      },
      "source": [
        ""
      ],
      "execution_count": 0,
      "outputs": []
    }
  ]
}