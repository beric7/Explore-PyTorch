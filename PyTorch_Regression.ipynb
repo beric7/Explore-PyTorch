{
  "nbformat": 4,
  "nbformat_minor": 0,
  "metadata": {
    "colab": {
      "name": "PyTorch_Regression.ipynb",
      "provenance": [],
      "collapsed_sections": []
    },
    "kernelspec": {
      "name": "python3",
      "display_name": "Python 3"
    }
  },
  "cells": [
    {
      "cell_type": "markdown",
      "metadata": {
        "id": "gyQnQ9gTCdUE",
        "colab_type": "text"
      },
      "source": [
        "Regression from Scratch in Numpy vs. PyTorch"
      ]
    },
    {
      "cell_type": "markdown",
      "metadata": {
        "id": "FMCnNSexCly1",
        "colab_type": "text"
      },
      "source": [
        "Regression in Numpy"
      ]
    },
    {
      "cell_type": "code",
      "metadata": {
        "id": "CQ_JDYDgOg0u",
        "colab_type": "code",
        "colab": {}
      },
      "source": [
        "import numpy as np\n",
        "import matplotlib.pyplot as plt"
      ],
      "execution_count": 0,
      "outputs": []
    },
    {
      "cell_type": "code",
      "metadata": {
        "id": "7cBkp4CiCskO",
        "colab_type": "code",
        "colab": {}
      },
      "source": [
        "X = np.array([1,2,4,6,8,10,12,13,14,16,16,18,20,22,24])\n",
        "Y = np.array([39,42,43,46,47,56,60,59,64,66,68,72,71,75,80])"
      ],
      "execution_count": 0,
      "outputs": []
    },
    {
      "cell_type": "code",
      "metadata": {
        "id": "kD1fuz_bCsZ0",
        "colab_type": "code",
        "outputId": "f8e65400-dc9c-409e-ca09-942ed2aaefd0",
        "colab": {
          "base_uri": "https://localhost:8080/",
          "height": 282
        }
      },
      "source": [
        "plt.scatter(X,Y)"
      ],
      "execution_count": 3,
      "outputs": [
        {
          "output_type": "execute_result",
          "data": {
            "text/plain": [
              "<matplotlib.collections.PathCollection at 0x7f9637f97b70>"
            ]
          },
          "metadata": {
            "tags": []
          },
          "execution_count": 3
        },
        {
          "output_type": "display_data",
          "data": {
            "image/png": "[encoded data removed]",
            "text/plain": [
              "<Figure size 432x288 with 1 Axes>"
            ]
          },
          "metadata": {
            "tags": []
          }
        }
      ]
    },
    {
      "cell_type": "markdown",
      "metadata": {
        "id": "OIn7YAkCOzQv",
        "colab_type": "text"
      },
      "source": [
        "As we can see there is linear relationship between X and Y.(We'll discuss more about correlation in another post). We'll use linear regression to build prediction model"
      ]
    },
    {
      "cell_type": "code",
      "metadata": {
        "id": "JAUgXRvdCsR4",
        "colab_type": "code",
        "outputId": "48cc89a3-3ddd-4f1f-be6d-a0df93cda5bb",
        "colab": {
          "base_uri": "https://localhost:8080/",
          "height": 54
        }
      },
      "source": [
        "'''Y = a*X+b is the equation of line/linear regression model.\n",
        "Goal here is to find the values of a and b.\n",
        "There are multiple techniques to achieve this:\n",
        "1.Matrix calculations: Put all data into matrices to perform optimization.Used for small dataset because of memory requirement.\n",
        "2.Gradient Descent : Try to minimize error/difference between actual and predicted values using derivatives.\n",
        "3.Regularization: While minimizing error,also try to reduce impact of unnecessary features.\n",
        "4.Simple linear regression:If there are single input varaible and single output variable,use covariance and variance to find a and b.\n",
        "\n",
        "More detailed explaination of above techniques is not in the scope here.\n",
        "We'll implement method 2 i.e Gradient Descent here-more specific-Batch Gradient Descent.\n",
        "Weights(a,b) are updated at end of complete batch/all rows as follow:\n",
        "new a = old a - (learning_rate*gradient_a)\n",
        "new b = old b - (learning_rate*gradient_b)\n",
        "\n",
        "'''\n"
      ],
      "execution_count": 4,
      "outputs": [
        {
          "output_type": "execute_result",
          "data": {
            "text/plain": [
              "\"Y = a*X+b is the equation of line/linear regression model.\\nGoal here is to find the values of a and b.\\nThere are multiple techniques to achieve this:\\n1.Matrix calculations: Put all data into matrices to perform optimization.Used for small dataset because of memory requirement.\\n2.Gradient Descent : Try to minimize error/difference between actual and predicted values using derivatives.\\n3.Regularization: While minimizing error,also try to reduce impact of unnecessary features.\\n4.Simple linear regression:If there are single input varaible and single output variable,use covariance and variance to find a and b.\\n\\nMore detailed explaination of above techniques is not in the scope here.\\nWe'll implement method 2 i.e Gradient Descent here-more specific-Batch Gradient Descent.\\nWeights(a,b) are updated at end of complete batch/all rows as follow:\\nnew a = old a - (learning_rate*gradient_a)\\nnew b = old b - (learning_rate*gradient_b)\\n\\n\""
            ]
          },
          "metadata": {
            "tags": []
          },
          "execution_count": 4
        }
      ]
    },
    {
      "cell_type": "code",
      "metadata": {
        "id": "ECaYuxM4zsIJ",
        "colab_type": "code",
        "colab": {}
      },
      "source": [
        "np.random.seed(2)\n",
        "epochs=15\n",
        "learning_rate = 0.001\n",
        "w = np.random.randn()\n",
        "b = np.random.randn()\n",
        "y_pred = np.empty(len(Y))"
      ],
      "execution_count": 0,
      "outputs": []
    },
    {
      "cell_type": "code",
      "metadata": {
        "id": "3449vzB3zsEG",
        "colab_type": "code",
        "outputId": "81bd35af-ac47-4174-942f-e08e65c28a1f",
        "colab": {
          "base_uri": "https://localhost:8080/",
          "height": 527
        }
      },
      "source": [
        "for i in range(epochs):\n",
        "    print(\"-----------epoch:{}--------\".format(i))\n",
        "    #prediction\n",
        "    y_pred = w*X +b \n",
        "\n",
        "    #Error/loss calculation is Mean Squared Error\n",
        "    error = np.mean((Y - y_pred)**2)  \n",
        "    print('Total Error:{}'.format(error))\n",
        "\n",
        "    #Gradient calculation\n",
        "    gradient_a = np.mean(-2*X*(Y-y_pred))\n",
        "    gradient_b = np.mean(-2*(Y-y_pred))\n",
        "\n",
        "    #Update weights\n",
        "    w -= learning_rate*gradient_a\n",
        "    b -= learning_rate*gradient_b\n",
        "\n",
        "  \n",
        "   "
      ],
      "execution_count": 6,
      "outputs": [
        {
          "output_type": "stream",
          "text": [
            "-----------epoch:0--------\n",
            "Total Error:4393.679411741339\n",
            "-----------epoch:1--------\n",
            "Total Error:1761.2933993839647\n",
            "-----------epoch:2--------\n",
            "Total Error:829.147694180196\n",
            "-----------epoch:3--------\n",
            "Total Error:498.94421785640026\n",
            "-----------epoch:4--------\n",
            "Total Error:381.8486450156428\n",
            "-----------epoch:5--------\n",
            "Total Error:340.20059390876725\n",
            "-----------epoch:6--------\n",
            "Total Error:325.26367603059253\n",
            "-----------epoch:7--------\n",
            "Total Error:319.7835764526846\n",
            "-----------epoch:8--------\n",
            "Total Error:317.6516893015521\n",
            "-----------epoch:9--------\n",
            "Total Error:316.705363217721\n",
            "-----------epoch:10--------\n",
            "Total Error:316.1789469743335\n",
            "-----------epoch:11--------\n",
            "Total Error:315.80137420708223\n",
            "-----------epoch:12--------\n",
            "Total Error:315.47667816740153\n",
            "-----------epoch:13--------\n",
            "Total Error:315.17088323869484\n",
            "-----------epoch:14--------\n",
            "Total Error:314.8719607426561\n"
          ],
          "name": "stdout"
        }
      ]
    },
    {
      "cell_type": "code",
      "metadata": {
        "id": "hW2fVpbLbuyu",
        "colab_type": "code",
        "outputId": "16697e20-91c3-4931-990c-e9a5e810cd54",
        "colab": {
          "base_uri": "https://localhost:8080/",
          "height": 34
        }
      },
      "source": [
        "print(w,b)"
      ],
      "execution_count": 7,
      "outputs": [
        {
          "output_type": "stream",
          "text": [
            "4.042799282999869 0.4771951521774575\n"
          ],
          "name": "stdout"
        }
      ]
    },
    {
      "cell_type": "code",
      "metadata": {
        "id": "u-Oas24OAqQk",
        "colab_type": "code",
        "colab": {
          "base_uri": "https://localhost:8080/",
          "height": 54
        },
        "outputId": "8e3647dd-3b4c-4c17-a3fc-5dcb51b2c0df"
      },
      "source": [
        "'''Error is reducing with increment in epochs. Number of epochs and learning rate are hyperparameters to tune. \n",
        "Let's not play around with it and jumpt to PyTorch'''"
      ],
      "execution_count": 8,
      "outputs": [
        {
          "output_type": "execute_result",
          "data": {
            "text/plain": [
              "\"Error is reducing with increment in epochs. Number of epochs and learning rate are hyperparameters to tune. \\nLet's not play around with it and jumpt to PyTorch\""
            ]
          },
          "metadata": {
            "tags": []
          },
          "execution_count": 8
        }
      ]
    },
    {
      "cell_type": "code",
      "metadata": {
        "id": "pmoHHxvV_X9N",
        "colab_type": "code",
        "colab": {}
      },
      "source": [
        ""
      ],
      "execution_count": 0,
      "outputs": []
    },
    {
      "cell_type": "markdown",
      "metadata": {
        "id": "oht1yH1MCn9b",
        "colab_type": "text"
      },
      "source": [
        "Regression in PyTorch"
      ]
    },
    {
      "cell_type": "code",
      "metadata": {
        "id": "lPONm4D4Ft0J",
        "colab_type": "code",
        "colab": {}
      },
      "source": [
        "import torch"
      ],
      "execution_count": 0,
      "outputs": []
    },
    {
      "cell_type": "code",
      "metadata": {
        "id": "iT7zh_6_AKq2",
        "colab_type": "code",
        "colab": {}
      },
      "source": [
        "#initialise data/features and target\n",
        "X_tensor = torch.from_numpy(X)\n",
        "Y_tensor = torch.from_numpy(Y)"
      ],
      "execution_count": 0,
      "outputs": []
    },
    {
      "cell_type": "code",
      "metadata": {
        "id": "aTEuzbtFA5Ei",
        "colab_type": "code",
        "outputId": "11c394d4-e8cd-40e2-e69c-4ff96d051f6f",
        "colab": {
          "base_uri": "https://localhost:8080/",
          "height": 34
        }
      },
      "source": [
        "#Initialise weights\n",
        "'''Here unlike numpy we have to mention that these variables are trainable(need to calculate derivatives).\n",
        "This can be done using requires_grad:'''"
      ],
      "execution_count": 11,
      "outputs": [
        {
          "output_type": "execute_result",
          "data": {
            "text/plain": [
              "'Here unlike numpy we have to mention that these variables are trainable(need to calculate derivatives).\\nThis can be done using requires_grad:'"
            ]
          },
          "metadata": {
            "tags": []
          },
          "execution_count": 11
        }
      ]
    },
    {
      "cell_type": "code",
      "metadata": {
        "id": "tP9l7K-YICz2",
        "colab_type": "code",
        "colab": {}
      },
      "source": [
        "torch.random.seed = 2\n",
        "w_tensor = torch.randn(1,requires_grad=True,dtype=torch.float)\n",
        "b_tensor = torch.randn(1,requires_grad=True,dtype=torch.float)\n",
        "epochs=15\n",
        "learning_rate = 0.001"
      ],
      "execution_count": 0,
      "outputs": []
    },
    {
      "cell_type": "code",
      "metadata": {
        "id": "cQHzW9E8cVSA",
        "colab_type": "code",
        "outputId": "b603b038-6c92-4ad6-f0d1-b4263f7be57a",
        "colab": {
          "base_uri": "https://localhost:8080/",
          "height": 34
        }
      },
      "source": [
        "w_tensor"
      ],
      "execution_count": 13,
      "outputs": [
        {
          "output_type": "execute_result",
          "data": {
            "text/plain": [
              "tensor([-1.2575], requires_grad=True)"
            ]
          },
          "metadata": {
            "tags": []
          },
          "execution_count": 13
        }
      ]
    },
    {
      "cell_type": "code",
      "metadata": {
        "id": "0PBFdPCdUz9a",
        "colab_type": "code",
        "outputId": "6bcb6965-4a28-41a3-df2b-d128a1cef553",
        "colab": {
          "base_uri": "https://localhost:8080/",
          "height": 527
        }
      },
      "source": [
        "#Model without PyTorch in-built methods\n",
        "for i in range(epochs):\n",
        "    print(\"-----------epoch:{}--------\".format(i))\n",
        "    #prediction\n",
        "    y_pred = w_tensor*X_tensor +b_tensor \n",
        "\n",
        "    #Error/loss calculation is Mean Squared Error\n",
        "    error = ((Y_tensor - y_pred)**2).mean()\n",
        "    print('Total Error:{}'.format(error))\n",
        "\n",
        "    '''Now no need to calculate gradients,PyTorch will do it if we tell which function/variable needs gradient calculation using backward()'''\n",
        "    error.backward()\n",
        "\n",
        "    '''Actual values of gradients can be seen using grad attribute'''\n",
        "    #print(w_tensor.grad,b_tensor.grad)\n",
        "    \n",
        "    '''We can not directly use gradients in normal calculation,so use no_grad() method to get variables out of scope of computation graph '''\n",
        "    \n",
        "    with torch.no_grad():\n",
        "       w_tensor-= learning_rate*w_tensor.grad\n",
        "       b_tensor-= learning_rate*b_tensor.grad\n",
        "      \n",
        "\n",
        "     #After each step,Reinitilaise gradients because PyTorch holds on to gradients\n",
        "    w_tensor.grad.zero_()\n",
        "    b_tensor.grad.zero_()\n",
        "\n"
      ],
      "execution_count": 14,
      "outputs": [
        {
          "output_type": "stream",
          "text": [
            "-----------epoch:0--------\n",
            "Total Error:6396.83935546875\n",
            "-----------epoch:1--------\n",
            "Total Error:2495.30615234375\n",
            "-----------epoch:2--------\n",
            "Total Error:1113.8157958984375\n",
            "-----------epoch:3--------\n",
            "Total Error:624.5057983398438\n",
            "-----------epoch:4--------\n",
            "Total Error:451.05792236328125\n",
            "-----------epoch:5--------\n",
            "Total Error:389.4356994628906\n",
            "-----------epoch:6--------\n",
            "Total Error:367.40386962890625\n",
            "-----------epoch:7--------\n",
            "Total Error:359.3885498046875\n",
            "-----------epoch:8--------\n",
            "Total Error:356.33563232421875\n",
            "-----------epoch:9--------\n",
            "Total Error:355.03997802734375\n",
            "-----------epoch:10--------\n",
            "Total Error:354.3665466308594\n",
            "-----------epoch:11--------\n",
            "Total Error:353.9134521484375\n",
            "-----------epoch:12--------\n",
            "Total Error:353.53887939453125\n",
            "-----------epoch:13--------\n",
            "Total Error:353.1919860839844\n",
            "-----------epoch:14--------\n",
            "Total Error:352.8553771972656\n"
          ],
          "name": "stdout"
        }
      ]
    },
    {
      "cell_type": "code",
      "metadata": {
        "id": "l8o0xyqjI6C_",
        "colab_type": "code",
        "outputId": "abbac67c-f1a0-4e93-ff92-fbdb9168980c",
        "colab": {
          "base_uri": "https://localhost:8080/",
          "height": 527
        }
      },
      "source": [
        "#Model with PyTorch in-built methods\n",
        "optimizer = torch.optim.SGD([w_tensor, b_tensor], lr=learning_rate) \n",
        "loss = torch.nn.MSELoss(reduction='mean')\n",
        "for i in range(epochs):\n",
        "    print(\"-----------epoch:{}--------\".format(i))\n",
        "    #prediction\n",
        "    y_pred = w_tensor*X_tensor +b_tensor \n",
        "\n",
        "    #Error/loss calculation is Mean Squared Error\n",
        "    error = loss(Y_tensor, y_pred)  \n",
        "    print('Total Error:{}'.format(error))\n",
        "\n",
        "    '''Now no need to calculate gradients,PyTorch will do it if we tell which function/variable needs gradient calculation using backward()'''\n",
        "    error.backward()\n",
        "\n",
        "    #Update weights using Optimizer\n",
        "    optimizer.step()\n",
        "\n",
        "    #After each step,Reinitilaise gradients because PyTorch holds on to gradients\n",
        "    #Reinitilaise gradients using Optimizer\n",
        "    optimizer.zero_grad()   "
      ],
      "execution_count": 15,
      "outputs": [
        {
          "output_type": "stream",
          "text": [
            "-----------epoch:0--------\n",
            "Total Error:352.5224914550781\n",
            "-----------epoch:1--------\n",
            "Total Error:352.1910095214844\n",
            "-----------epoch:2--------\n",
            "Total Error:351.8605041503906\n",
            "-----------epoch:3--------\n",
            "Total Error:351.5302734375\n",
            "-----------epoch:4--------\n",
            "Total Error:351.20050048828125\n",
            "-----------epoch:5--------\n",
            "Total Error:350.87109375\n",
            "-----------epoch:6--------\n",
            "Total Error:350.5419616699219\n",
            "-----------epoch:7--------\n",
            "Total Error:350.2131042480469\n",
            "-----------epoch:8--------\n",
            "Total Error:349.8846435546875\n",
            "-----------epoch:9--------\n",
            "Total Error:349.55645751953125\n",
            "-----------epoch:10--------\n",
            "Total Error:349.22845458984375\n",
            "-----------epoch:11--------\n",
            "Total Error:348.9008483886719\n",
            "-----------epoch:12--------\n",
            "Total Error:348.5736389160156\n",
            "-----------epoch:13--------\n",
            "Total Error:348.2466735839844\n",
            "-----------epoch:14--------\n",
            "Total Error:347.91998291015625\n"
          ],
          "name": "stdout"
        }
      ]
    },
    {
      "cell_type": "code",
      "metadata": {
        "id": "VcsTXlm9ZhHU",
        "colab_type": "code",
        "colab": {
          "base_uri": "https://localhost:8080/",
          "height": 54
        },
        "outputId": "e9cee805-510e-4145-8f98-216554ee3f94"
      },
      "source": [
        "'''Till now,we've explored loss calculation and Optimizers.\n",
        "The only manual step remaining is prediction step which also can be done by Model class,but we'll explore more on Model class and neural network in PyTorch in next \n",
        "article. If you liked the post CLAP!CLAP!CLAP! and your response is most WELCOME! '''\n"
      ],
      "execution_count": 16,
      "outputs": [
        {
          "output_type": "execute_result",
          "data": {
            "text/plain": [
              "\"Till now,we've explored loss calculation and Optimizers.\\nThe only manual step remaining is prediction step which also can be done by Model class,but we'll explore more on Model class and neural network in PyTorch in next \\narticle. If you liked the post CLAP!CLAP!CLAP! and your response is most WELCOME! \""
            ]
          },
          "metadata": {
            "tags": []
          },
          "execution_count": 16
        }
      ]
    },
    {
      "cell_type": "code",
      "metadata": {
        "id": "YI4z_msts1aG",
        "colab_type": "code",
        "colab": {}
      },
      "source": [
        ""
      ],
      "execution_count": 0,
      "outputs": []
    }
  ]
}